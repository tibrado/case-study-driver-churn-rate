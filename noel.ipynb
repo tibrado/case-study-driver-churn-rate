{
 "cells": [
  {
   "cell_type": "code",
   "execution_count": 1,
   "metadata": {},
   "outputs": [],
   "source": [
    "import src.helper as hp\n",
    "import pandas as pd\n",
    "\n",
    "import matplotlib.pyplot as plt \n",
    "\n",
    "%matplotlib inline \n",
    "\n",
    "plt.style.use('ggplot')"
   ]
  },
  {
   "cell_type": "code",
   "execution_count": 2,
   "metadata": {},
   "outputs": [
    {
     "name": "stdout",
     "output_type": "stream",
     "text": [
      "<class 'pandas.core.frame.DataFrame'>\n",
      "RangeIndex: 50000 entries, 0 to 49999\n",
      "Data columns (total 12 columns):\n",
      " #   Column                  Non-Null Count  Dtype  \n",
      "---  ------                  --------------  -----  \n",
      " 0   avg_dist                50000 non-null  float64\n",
      " 1   avg_rating_by_driver    49799 non-null  float64\n",
      " 2   avg_rating_of_driver    41878 non-null  float64\n",
      " 3   avg_surge               50000 non-null  float64\n",
      " 4   city                    50000 non-null  object \n",
      " 5   last_trip_date          50000 non-null  object \n",
      " 6   phone                   49604 non-null  object \n",
      " 7   signup_date             50000 non-null  object \n",
      " 8   surge_pct               50000 non-null  float64\n",
      " 9   trips_in_first_30_days  50000 non-null  int64  \n",
      " 10  luxury_car_user         50000 non-null  bool   \n",
      " 11  weekday_pct             50000 non-null  float64\n",
      "dtypes: bool(1), float64(6), int64(1), object(4)\n",
      "memory usage: 4.2+ MB\n"
     ]
    }
   ],
   "source": [
    "# Get data raw \n",
    "df = hp.get_data('data/churn.csv')\n",
    "df.info()"
   ]
  },
  {
   "cell_type": "markdown",
   "metadata": {},
   "source": [
    "\n",
    "|#   |Column                 | Misisng |  Dtype |\n",
    "|--- | ------                |  -------| -----  |\n",
    "| 0  | avg_dist              |  0      | float64|\n",
    "| 1  | avg_rating_by_driver  |  201|  float64|\n",
    "| 2  | avg_rating_of_driver  |  8122|  float64|\n",
    "| 3  | avg_surge             |  0|  float64|\n",
    "| 4  | city                  |  0|  object |\n",
    "| 5  | last_trip_date        |  0|  object |\n",
    "| 6  | phone                 |  396|  object |\n",
    "| 7  | signup_date           |  0|  object |\n",
    "| 8  | surge_pct             |  0|  float64|\n",
    "| 9  | trips_in_first_30_days|  0|  int64  |\n",
    "| 10 | luxury_car_user       | 0| bool   |\n",
    "| 11 | weekday_pct           | 0| float64|"
   ]
  },
  {
   "cell_type": "code",
   "execution_count": 3,
   "metadata": {},
   "outputs": [
    {
     "name": "stdout",
     "output_type": "stream",
     "text": [
      "<class 'pandas.core.frame.DataFrame'>\n",
      "RangeIndex: 50000 entries, 0 to 49999\n",
      "Data columns (total 15 columns):\n",
      " #   Column                  Non-Null Count  Dtype  \n",
      "---  ------                  --------------  -----  \n",
      " 0   avg_dist                50000 non-null  float64\n",
      " 1   avg_rating_by_driver    50000 non-null  float64\n",
      " 2   avg_rating_of_driver    50000 non-null  float64\n",
      " 3   avg_surge               50000 non-null  float64\n",
      " 4   is_iphone               50000 non-null  int64  \n",
      " 5   surge_pct               50000 non-null  float64\n",
      " 6   trips_in_first_30_days  50000 non-null  int64  \n",
      " 7   luxury_car_user         50000 non-null  int64  \n",
      " 8   weekday_pct             50000 non-null  float64\n",
      " 9   city_Astapor            50000 non-null  uint8  \n",
      " 10  city_King's Landing     50000 non-null  uint8  \n",
      " 11  city_Winterfell         50000 non-null  uint8  \n",
      " 12  use_service             50000 non-null  int64  \n",
      " 13  last_trip_day           50000 non-null  int64  \n",
      " 14  signup_day              50000 non-null  int64  \n",
      "dtypes: float64(6), int64(6), uint8(3)\n",
      "memory usage: 4.7 MB\n"
     ]
    }
   ],
   "source": [
    "# Get data \n",
    "X, y = hp.data_clean('data/churn.csv')\n",
    "X.info()"
   ]
  },
  {
   "cell_type": "code",
   "execution_count": null,
   "metadata": {},
   "outputs": [],
   "source": [
    "X = pd.concat([X, y], axis=1)"
   ]
  },
  {
   "cell_type": "code",
   "execution_count": null,
   "metadata": {},
   "outputs": [],
   "source": [
    "X.service_age"
   ]
  },
  {
   "cell_type": "code",
   "execution_count": null,
   "metadata": {},
   "outputs": [],
   "source": [
    "# Draw Hist\n",
    "fig, axs = plt.subplots(4, 4, figsize = (15, 10))\n",
    "\n",
    "\n",
    "for i, ax in enumerate(axs.flatten()):\n",
    "    ax.hist(X[X.columns[i]])\n",
    "    ax.set_title(X.columns[i].replace('_', ' ').title())\n",
    "    \n",
    "plt.tight_layout()\n",
    "\n",
    "plt.savefig('img/data_hist.png')"
   ]
  },
  {
   "cell_type": "code",
   "execution_count": null,
   "metadata": {},
   "outputs": [],
   "source": []
  },
  {
   "cell_type": "code",
   "execution_count": null,
   "metadata": {},
   "outputs": [],
   "source": [
    "# Draw Target\n",
    "fig, ax = plt.subplots(figsize = (5, 4))\n",
    "\n",
    "ax.hist(y)\n",
    "ax.set_title(\"Churned\")\n",
    "\n",
    "plt.savefig('img/churned.png')"
   ]
  },
  {
   "cell_type": "markdown",
   "metadata": {},
   "source": [
    "Data Dictionary \n",
    "\n",
    "|#  |Column                | Count | Dtype | Definition|\n",
    "|---|  ------              |-------|-------| ----------|\n",
    "| 0 |  avg_dist            |    50000 | float64|The average distance (in miles) per trip taken in the first 30 days after signup|\n",
    "| 1 |  avg_rating_by_driver|    50000 | float64|The rider’s average rating over all of their trips|\n",
    "| 2 |  avg_rating_of_driver|    50000 | float64|The rider’s average rating of their drivers over all of their trips|\n",
    "| 3 |  avg_surge           |    50000 | float64|The average surge multiplier over all of this user’s trips|\n",
    "| 4 |  is_iphone           |    50000 | int64  |If driver use Iphone|\n",
    "| 5 |  surge_pct           |    50000 | float64|The percent of trips taken with surge multiplier > 1|\n",
    "| 6 |  trips_in_first_30_days|  50000 | int64  |The number of trips this user took in the first 30 days after signing up|\n",
    "| 7 |  luxury_car_user       |  50000 |  int64  |1 if the user took a luxury car in their first 30 days; 0 otherwise|\n",
    "| 8 |  weekday_pct           |  50000 |  float64|The percent of the user’s trips occurring during a weekday|\n",
    "| 9 |  city_Astapor          |  50000 |  uint8  |City of Astapor|\n",
    "| 10|  city_King's Landing   |  50000 |  uint8  |City of King's Landing\n",
    "| 11|  city_Winterfell       |  50000 |  uint8  |City of Winterfell|\n",
    "| 12|  last_trip_day         |  50000 |  int64  |Day of last trip|\n",
    "| 13|  last_trip_month       |  50000 |  int64  |Month of last trip|\n",
    "| 14|  signup_day            |  50000 |  int64  |Day of signup|\n",
    "| 15|  signup_month          |  50000 |  int64 |Month of signup|\n",
    "|16 | churn| 50000|uint8| 1 if driver churned|"
   ]
  },
  {
   "cell_type": "code",
   "execution_count": null,
   "metadata": {},
   "outputs": [],
   "source": [
    "a"
   ]
  },
  {
   "cell_type": "code",
   "execution_count": null,
   "metadata": {},
   "outputs": [],
   "source": []
  }
 ],
 "metadata": {
  "kernelspec": {
   "display_name": "Python 3",
   "language": "python",
   "name": "python3"
  },
  "language_info": {
   "codemirror_mode": {
    "name": "ipython",
    "version": 3
   },
   "file_extension": ".py",
   "mimetype": "text/x-python",
   "name": "python",
   "nbconvert_exporter": "python",
   "pygments_lexer": "ipython3",
   "version": "3.8.5"
  }
 },
 "nbformat": 4,
 "nbformat_minor": 4
}
