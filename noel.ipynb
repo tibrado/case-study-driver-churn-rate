{
 "cells": [
  {
   "cell_type": "code",
   "execution_count": 2,
   "metadata": {},
   "outputs": [
    {
     "name": "stdout",
     "output_type": "stream",
     "text": [
      "<class 'pandas.core.frame.DataFrame'>\n",
      "RangeIndex: 50000 entries, 0 to 49999\n",
      "Data columns (total 20 columns):\n",
      " #   Column                  Non-Null Count  Dtype         \n",
      "---  ------                  --------------  -----         \n",
      " 0   avg_dist                50000 non-null  float64       \n",
      " 1   avg_rating_by_driver    50000 non-null  float64       \n",
      " 2   avg_rating_of_driver    50000 non-null  float64       \n",
      " 3   avg_surge               50000 non-null  float64       \n",
      " 4   last_trip_date          50000 non-null  datetime64[ns]\n",
      " 5   is_iphone               50000 non-null  int64         \n",
      " 6   signup_date             50000 non-null  datetime64[ns]\n",
      " 7   surge_pct               50000 non-null  float64       \n",
      " 8   trips_in_first_30_days  50000 non-null  int64         \n",
      " 9   luxury_car_user         50000 non-null  int64         \n",
      " 10  weekday_pct             50000 non-null  float64       \n",
      " 11  city_Astapor            50000 non-null  uint8         \n",
      " 12  city_King's Landing     50000 non-null  uint8         \n",
      " 13  city_Winterfell         50000 non-null  uint8         \n",
      " 14  last_trip_day           50000 non-null  int64         \n",
      " 15  last_trip_month         50000 non-null  int64         \n",
      " 16  last_trip_year          50000 non-null  int64         \n",
      " 17  signup_day              50000 non-null  int64         \n",
      " 18  signup_month            50000 non-null  int64         \n",
      " 19  signup_year             50000 non-null  int64         \n",
      "dtypes: datetime64[ns](2), float64(6), int64(9), uint8(3)\n",
      "memory usage: 6.6 MB\n"
     ]
    }
   ],
   "source": [
    "import src.helper as hp\n",
    "import pandas as pd\n",
    "X, y = hp.data_clean('data/churn.csv')\n",
    "X.info()"
   ]
  },
  {
   "cell_type": "code",
   "execution_count": 11,
   "metadata": {},
   "outputs": [
    {
     "data": {
      "text/plain": [
       "1.0    34582\n",
       "0.0    15022\n",
       "Name: is_iphone, dtype: int64"
      ]
     },
     "execution_count": 11,
     "metadata": {},
     "output_type": "execute_result"
    }
   ],
   "source": [
    "X['is_iphone'].value_counts()"
   ]
  },
  {
   "cell_type": "code",
   "execution_count": null,
   "metadata": {},
   "outputs": [],
   "source": [
    "driver['city'].value_counts()"
   ]
  },
  {
   "cell_type": "code",
   "execution_count": null,
   "metadata": {},
   "outputs": [],
   "source": [
    "df['phone'].value_counts()"
   ]
  },
  {
   "cell_type": "code",
   "execution_count": null,
   "metadata": {},
   "outputs": [],
   "source": [
    "df"
   ]
  },
  {
   "cell_type": "code",
   "execution_count": null,
   "metadata": {
    "scrolled": true
   },
   "outputs": [],
   "source": [
    "pd.get_dummies(driver, columns =['city'])"
   ]
  },
  {
   "cell_type": "code",
   "execution_count": null,
   "metadata": {},
   "outputs": [],
   "source": [
    "df.drop(columns = 'churn')"
   ]
  },
  {
   "cell_type": "code",
   "execution_count": null,
   "metadata": {},
   "outputs": [],
   "source": [
    "df['avg_rating_of_driver'].fillna(0, inplace = True)"
   ]
  },
  {
   "cell_type": "code",
   "execution_count": null,
   "metadata": {},
   "outputs": [],
   "source": []
  },
  {
   "cell_type": "code",
   "execution_count": null,
   "metadata": {},
   "outputs": [],
   "source": []
  }
 ],
 "metadata": {
  "kernelspec": {
   "display_name": "Python 3",
   "language": "python",
   "name": "python3"
  },
  "language_info": {
   "codemirror_mode": {
    "name": "ipython",
    "version": 3
   },
   "file_extension": ".py",
   "mimetype": "text/x-python",
   "name": "python",
   "nbconvert_exporter": "python",
   "pygments_lexer": "ipython3",
   "version": "3.8.5"
  }
 },
 "nbformat": 4,
 "nbformat_minor": 4
}
